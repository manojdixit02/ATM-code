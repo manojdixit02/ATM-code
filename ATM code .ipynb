{
 "cells": [
  {
   "cell_type": "code",
   "execution_count": null,
   "id": "c7afb420-653c-4ce0-84c4-19420d869927",
   "metadata": {},
   "outputs": [
    {
     "name": "stdout",
     "output_type": "stream",
     "text": [
      "welcome to you union bank\n"
     ]
    },
    {
     "name": "stdin",
     "output_type": "stream",
     "text": [
      "Pease enter your 4 digit pin : 1234\n"
     ]
    },
    {
     "name": "stdout",
     "output_type": "stream",
     "text": [
      "you entered you pin correctly\n",
      "\n",
      "please press 1 for your balance\n",
      "\n",
      "please press 2 for your whithrawl\n",
      "\n",
      "please press 3 for your pay in\n",
      "\n",
      "please press 4 for your return card\n",
      "\n"
     ]
    },
    {
     "name": "stdin",
     "output_type": "stream",
     "text": [
      "what would you like to choose? 1\n"
     ]
    },
    {
     "name": "stdout",
     "output_type": "stream",
     "text": [
      "your balance is $ 900 \n",
      "\n"
     ]
    },
    {
     "name": "stdin",
     "output_type": "stream",
     "text": [
      "would you like to go back? y\n"
     ]
    },
    {
     "name": "stdout",
     "output_type": "stream",
     "text": [
      "please press 1 for your balance\n",
      "\n",
      "please press 2 for your whithrawl\n",
      "\n",
      "please press 3 for your pay in\n",
      "\n",
      "please press 4 for your return card\n",
      "\n"
     ]
    },
    {
     "name": "stdin",
     "output_type": "stream",
     "text": [
      "what would you like to choose? 2\n",
      "how much would you like to withdrawl? \n",
      "$10/$20/$40/$60/$80/$100 for other enter 1 100\n"
     ]
    },
    {
     "name": "stdout",
     "output_type": "stream",
     "text": [
      "\n",
      "Your balance is now $ 800.0\n"
     ]
    },
    {
     "name": "stdin",
     "output_type": "stream",
     "text": [
      "what would you like to do? 1\n"
     ]
    },
    {
     "name": "stdout",
     "output_type": "stream",
     "text": [
      "invalid amount, please re-try\n",
      "\n",
      "please press 1 for your balance\n",
      "\n",
      "please press 2 for your whithrawl\n",
      "\n",
      "please press 3 for your pay in\n",
      "\n",
      "please press 4 for your return card\n",
      "\n"
     ]
    },
    {
     "name": "stdin",
     "output_type": "stream",
     "text": [
      "what would you like to choose? 2\n",
      "how much would you like to withdrawl? \n",
      "$10/$20/$40/$60/$80/$100 for other enter 1 100\n"
     ]
    },
    {
     "name": "stdout",
     "output_type": "stream",
     "text": [
      "\n",
      "Your balance is now $ 700.0\n"
     ]
    },
    {
     "name": "stdin",
     "output_type": "stream",
     "text": [
      "what would you like to do? y\n"
     ]
    },
    {
     "name": "stdout",
     "output_type": "stream",
     "text": [
      "invalid amount, please re-try\n",
      "\n",
      "please press 1 for your balance\n",
      "\n",
      "please press 2 for your whithrawl\n",
      "\n",
      "please press 3 for your pay in\n",
      "\n",
      "please press 4 for your return card\n",
      "\n"
     ]
    }
   ],
   "source": [
    "print(\"welcome to you union bank\")\n",
    "restart = (\"v\")\n",
    "chances = 3\n",
    "balance = 900\n",
    "while chances >=0:\n",
    "    pin=int(input(\"Pease enter your 4 digit pin :\"))\n",
    "    if pin == (1234):\n",
    "        print(\"you entered you pin correctly\\n\")\n",
    "        while restart not in (\"n\",\"NO\",\"no\",\"N\"):\n",
    "            print(\"please press 1 for your balance\\n\")\n",
    "            print(\"please press 2 for your whithrawl\\n\")\n",
    "            print(\"please press 3 for your pay in\\n\")\n",
    "            print(\"please press 4 for your return card\\n\")\n",
    "            option = int(input(\"what would you like to choose?\"))\n",
    "            if option==1:\n",
    "                print(\"your balance is $\", balance, \"\\n\")\n",
    "                restart = input(\"would you like to go back?\")\n",
    "                if restart in (\"n\",\"NO\",\"no\",\"N\"):\n",
    "                    print(\"thank you for banking with Edureka\")\n",
    "                    break\n",
    "            elif option ==2:\n",
    "                option2 = (\"y\")\n",
    "                withdrawl = float(input(\"how much would you like to withdrawl? \\n$10/$20/$40/$60/$80/$100 for other enter 1\"))\n",
    "                if withdrawl in [10,20,40,60,80,100]:\n",
    "                    balance = balance - withdrawl\n",
    "                print(\"\\nYour balance is now $\", balance)\n",
    "                restart = input(\"what would you like to do?\")\n",
    "                if restart in (\"n\",\"NO\",\"no\",\"N\"):\n",
    "                    print(\"thank you for banking with Edureka\")\n",
    "                    break\n",
    "                elif withdrawl !=[10,20,40,60,80,100]:\n",
    "                    print(\"invalid amount, please re-try\\n\")\n",
    "                    restart = (\"y\")\n",
    "                elif withdrawl==1:\n",
    "                    withdrawl=float(input(\"please enter the desired amount:\"))\n",
    "            elif option==3:\n",
    "                pay_in = float(input(\"How much would ou like to pay in?\"))\n",
    "                balance = balance + pay_in\n",
    "                print(\"\\nyour balance is now $\",balance)\n",
    "                restart = input(\"would you like to  go back?\")\n",
    "                if restart in (\"n\",\"NO\",\"no\",\"N\"):\n",
    "                    print(\"thank you for banking with Edureka\")\n",
    "                    break\n",
    "            elif option==4:\n",
    "                print(\"please wait while your card is returned...\\n\")\n",
    "                print(\"thank you for  banking with Edureka\")\n",
    "                break\n",
    "            else:\n",
    "                print(\"please enter a correct number. \\n\")\n",
    "                restart = (\"y\")\n",
    "    elif pin!=(\"1234\"):\n",
    "        print(\"incorrect passoward\")\n",
    "        chances = chances-1\n",
    "        if chances==0:\n",
    "            print(\"\\n no more tries, contact support@edureka.co\")\n",
    "            break\n",
    "                "
   ]
  },
  {
   "cell_type": "code",
   "execution_count": null,
   "id": "af231eb4-0090-4f8b-a706-bdfba1389a00",
   "metadata": {},
   "outputs": [],
   "source": []
  }
 ],
 "metadata": {
  "kernelspec": {
   "display_name": "Python 3 (ipykernel)",
   "language": "python",
   "name": "python3"
  },
  "language_info": {
   "codemirror_mode": {
    "name": "ipython",
    "version": 3
   },
   "file_extension": ".py",
   "mimetype": "text/x-python",
   "name": "python",
   "nbconvert_exporter": "python",
   "pygments_lexer": "ipython3",
   "version": "3.11.7"
  }
 },
 "nbformat": 4,
 "nbformat_minor": 5
}
